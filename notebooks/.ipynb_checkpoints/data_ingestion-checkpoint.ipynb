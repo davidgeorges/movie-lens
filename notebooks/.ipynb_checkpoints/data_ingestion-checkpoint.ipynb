{
 "cells": [
  {
   "cell_type": "markdown",
   "id": "48526daf",
   "metadata": {},
   "source": [
    "# MovieLens - Ingestion Batch et Vérification de la Qualité"
   ]
  },
  {
   "cell_type": "markdown",
   "id": "a570ce76",
   "metadata": {},
   "source": [
    "## 1. Initialisation de Spark"
   ]
  },
  {
   "cell_type": "code",
   "execution_count": 1,
   "id": "bb47e5f2",
   "metadata": {},
   "outputs": [
    {
     "name": "stderr",
     "output_type": "stream",
     "text": [
      "Setting default log level to \"WARN\".\n",
      "To adjust logging level use sc.setLogLevel(newLevel). For SparkR, use setLogLevel(newLevel).\n",
      "25/05/02 08:56:50 WARN NativeCodeLoader: Unable to load native-hadoop library for your platform... using builtin-java classes where applicable\n"
     ]
    },
    {
     "name": "stdout",
     "output_type": "stream",
     "text": [
      "✅ SparkSession initialisée.\n"
     ]
    }
   ],
   "source": [
    "from pyspark.sql import SparkSession\n",
    "from pyspark.sql.functions import count\n",
    "\n",
    "spark = SparkSession.builder \\\n",
    "    .appName(\"Data Ingestion - MovieLens\") \\\n",
    "    .config(\"spark.hadoop.fs.defaultFS\", \"hdfs://namenode:9000\") \\\n",
    "    .getOrCreate()\n",
    "\n",
    "spark.sparkContext.setLogLevel(\"ERROR\")\n",
    "\n",
    "print(\"✅ SparkSession initialisée.\")\n"
   ]
  },
  {
   "cell_type": "code",
   "execution_count": 2,
   "id": "a568439b",
   "metadata": {
    "vscode": {
     "languageId": "shellscript"
    }
   },
   "outputs": [
    {
     "name": "stdout",
     "output_type": "stream",
     "text": [
      "log4j:WARN No appenders could be found for logger (org.apache.hadoop.util.Shell).\n",
      "log4j:WARN Please initialize the log4j system properly.\n",
      "log4j:WARN See http://logging.apache.org/log4j/1.2/faq.html#noconfig for more info.\n",
      "Found 2 items\n",
      "drwxrwx---   - root supergroup          0 2025-04-29 14:38 /tmp\n",
      "drwxr-xr-x   - root supergroup          0 2025-04-29 23:24 /user\n",
      "log4j:WARN No appenders could be found for logger (org.apache.hadoop.util.Shell).\n",
      "log4j:WARN Please initialize the log4j system properly.\n",
      "log4j:WARN See http://logging.apache.org/log4j/1.2/faq.html#noconfig for more info.\n",
      "log4j:WARN No appenders could be found for logger (org.apache.hadoop.util.Shell).\n",
      "log4j:WARN Please initialize the log4j system properly.\n",
      "log4j:WARN See http://logging.apache.org/log4j/1.2/faq.html#noconfig for more info.\n",
      "Found 2 items\n",
      "drwxr-xr-x   - root supergroup          0 2025-04-30 11:11 /user/movielens/clean\n",
      "drwxr-xr-x   - root supergroup          0 2025-04-30 09:30 /user/movielens/raw\n",
      "log4j:WARN No appenders could be found for logger (org.apache.hadoop.util.Shell).\n",
      "log4j:WARN Please initialize the log4j system properly.\n",
      "log4j:WARN See http://logging.apache.org/log4j/1.2/faq.html#noconfig for more info.\n",
      "put: `./data/movielens/rating.csv': No such file or directory\n",
      "log4j:WARN No appenders could be found for logger (org.apache.hadoop.util.Shell).\n",
      "log4j:WARN Please initialize the log4j system properly.\n",
      "log4j:WARN See http://logging.apache.org/log4j/1.2/faq.html#noconfig for more info.\n",
      "put: `./data/movielens/movie.csv': No such file or directory\n",
      "log4j:WARN No appenders could be found for logger (org.apache.hadoop.util.Shell).\n",
      "log4j:WARN Please initialize the log4j system properly.\n",
      "log4j:WARN See http://logging.apache.org/log4j/1.2/faq.html#noconfig for more info.\n",
      "Found 2 items\n",
      "-rw-r--r--   1 root supergroup    1493648 2025-04-30 09:30 /user/movielens/raw/movie.csv\n",
      "-rw-r--r--   1 root supergroup  690353377 2025-04-30 09:30 /user/movielens/raw/rating.csv\n"
     ]
    }
   ],
   "source": [
    "\n",
    "## 2. Vérification HDFS préalable\n",
    "\n",
    "!hdfs dfs -ls /\n",
    "\n",
    "## 3. Création du répertoire de destination dans HDFS\n",
    "\n",
    "!hdfs dfs -mkdir -p /user/movielens/raw\n",
    "!hdfs dfs -ls /user/movielens\n",
    "\n",
    "## 4. Upload local → HDFS (depuis /notebooks/data ou autre)\n",
    "# Remplacer les chemins ci-dessous par le chemin réel dans le container Docker si différent\n",
    "\n",
    "!hdfs dfs -put -f ./data/movielens/rating.csv /user/movielens/raw/\n",
    "!hdfs dfs -put -f ./data/movielens/movie.csv /user/movielens/raw/\n",
    "\n",
    "## 5. Vérification HDFS \n",
    "!hdfs dfs -ls /user/movielens/raw\n",
    "\n",
    "## 6. Lecture avec Spark (vérification d'intégrité)\n",
    "ratings_path = \"hdfs://namenode:9000/user/movielens/raw/rating.csv\"\n",
    "movies_path = \"hdfs://namenode:9000/user/movielens/raw/movie.csv\""
   ]
  },
  {
   "cell_type": "markdown",
   "id": "152eaf5f",
   "metadata": {},
   "source": [
    "## 2. Chargement des données locales"
   ]
  },
  {
   "cell_type": "code",
   "execution_count": 3,
   "id": "a34fb2ee",
   "metadata": {},
   "outputs": [
    {
     "name": "stderr",
     "output_type": "stream",
     "text": [
      "                                                                                "
     ]
    },
    {
     "name": "stdout",
     "output_type": "stream",
     "text": [
      "✅ Fichiers chargés avec Spark.\n"
     ]
    }
   ],
   "source": [
    "\n",
    "ratings_df = spark.read.option(\"header\", True).option(\"inferSchema\", True).csv(ratings_path)\n",
    "movies_df = spark.read.option(\"header\", True).option(\"inferSchema\", True).csv(movies_path)\n",
    "\n",
    "print(\"✅ Fichiers chargés avec Spark.\")\n"
   ]
  },
  {
   "cell_type": "markdown",
   "id": "505287c0",
   "metadata": {},
   "source": [
    "## 3. Exploration des données\n"
   ]
  },
  {
   "cell_type": "code",
   "execution_count": 4,
   "id": "335df0e6",
   "metadata": {},
   "outputs": [
    {
     "name": "stdout",
     "output_type": "stream",
     "text": [
      "Schéma des notes:\n",
      "root\n",
      " |-- userId: integer (nullable = true)\n",
      " |-- movieId: integer (nullable = true)\n",
      " |-- rating: double (nullable = true)\n",
      " |-- timestamp: timestamp (nullable = true)\n",
      "\n",
      "\n",
      "Schéma des films:\n",
      "root\n",
      " |-- movieId: integer (nullable = true)\n",
      " |-- title: string (nullable = true)\n",
      " |-- genres: string (nullable = true)\n",
      "\n"
     ]
    }
   ],
   "source": [
    "# Affichage des schémas\n",
    "print(\"Schéma des notes:\")\n",
    "ratings_df.printSchema()\n",
    "\n",
    "print(\"\\nSchéma des films:\")\n",
    "movies_df.printSchema()"
   ]
  },
  {
   "cell_type": "code",
   "execution_count": 5,
   "id": "351a1113",
   "metadata": {},
   "outputs": [
    {
     "name": "stdout",
     "output_type": "stream",
     "text": [
      "🎬 Aperçu des données ratings.csv :\n",
      "+------+-------+------+-------------------+\n",
      "|userId|movieId|rating|          timestamp|\n",
      "+------+-------+------+-------------------+\n",
      "|     1|      2|   3.5|2005-04-02 23:53:47|\n",
      "|     1|     29|   3.5|2005-04-02 23:31:16|\n",
      "|     1|     32|   3.5|2005-04-02 23:33:39|\n",
      "|     1|     47|   3.5|2005-04-02 23:32:07|\n",
      "|     1|     50|   3.5|2005-04-02 23:29:40|\n",
      "+------+-------+------+-------------------+\n",
      "only showing top 5 rows\n",
      "\n",
      "root\n",
      " |-- userId: integer (nullable = true)\n",
      " |-- movieId: integer (nullable = true)\n",
      " |-- rating: double (nullable = true)\n",
      " |-- timestamp: timestamp (nullable = true)\n",
      "\n",
      "🎥 Aperçu des données movies.csv :\n",
      "+-------+--------------------+--------------------+\n",
      "|movieId|               title|              genres|\n",
      "+-------+--------------------+--------------------+\n",
      "|      1|    Toy Story (1995)|Adventure|Animati...|\n",
      "|      2|      Jumanji (1995)|Adventure|Childre...|\n",
      "|      3|Grumpier Old Men ...|      Comedy|Romance|\n",
      "|      4|Waiting to Exhale...|Comedy|Drama|Romance|\n",
      "|      5|Father of the Bri...|              Comedy|\n",
      "+-------+--------------------+--------------------+\n",
      "only showing top 5 rows\n",
      "\n",
      "root\n",
      " |-- movieId: integer (nullable = true)\n",
      " |-- title: string (nullable = true)\n",
      " |-- genres: string (nullable = true)\n",
      "\n"
     ]
    }
   ],
   "source": [
    "print(\"🎬 Aperçu des données ratings.csv :\")\n",
    "ratings_df.show(5)\n",
    "ratings_df.printSchema()\n",
    "\n",
    "print(\"🎥 Aperçu des données movies.csv :\")\n",
    "movies_df.show(5)\n",
    "movies_df.printSchema()\n"
   ]
  },
  {
   "cell_type": "code",
   "execution_count": 6,
   "id": "993af90b",
   "metadata": {},
   "outputs": [
    {
     "name": "stdout",
     "output_type": "stream",
     "text": [
      "Statistiques sur les notes:\n"
     ]
    },
    {
     "name": "stderr",
     "output_type": "stream",
     "text": [
      "                                                                                "
     ]
    },
    {
     "name": "stdout",
     "output_type": "stream",
     "text": [
      "+-------+-----------------+-----------------+------------------+\n",
      "|summary|           userId|          movieId|            rating|\n",
      "+-------+-----------------+-----------------+------------------+\n",
      "|  count|         20000263|         20000263|          20000263|\n",
      "|   mean|69045.87258292554|9041.567330339605|3.5255285642993797|\n",
      "| stddev| 40038.6266531621|  19789.477445413| 1.051988919294244|\n",
      "|    min|                1|                1|               0.5|\n",
      "|    max|           138493|           131262|               5.0|\n",
      "+-------+-----------------+-----------------+------------------+\n",
      "\n",
      "\n",
      "Nombre total de notes:\n"
     ]
    },
    {
     "name": "stderr",
     "output_type": "stream",
     "text": [
      "                                                                                "
     ]
    },
    {
     "name": "stdout",
     "output_type": "stream",
     "text": [
      "20000263\n",
      "\n",
      "Nombre total de films:\n",
      "27278\n",
      "\n",
      "Nombre d'utilisateurs uniques:\n"
     ]
    },
    {
     "name": "stderr",
     "output_type": "stream",
     "text": [
      "[Stage 15:=================>                                      (5 + 11) / 16]"
     ]
    },
    {
     "name": "stdout",
     "output_type": "stream",
     "text": [
      "138493\n"
     ]
    },
    {
     "name": "stderr",
     "output_type": "stream",
     "text": [
      "                                                                                "
     ]
    }
   ],
   "source": [
    "# Statistiques descriptives\n",
    "print(\"Statistiques sur les notes:\")\n",
    "ratings_df.describe().show()\n",
    "\n",
    "print(\"\\nNombre total de notes:\")\n",
    "print(ratings_df.count())\n",
    "\n",
    "print(\"\\nNombre total de films:\")\n",
    "print(movies_df.count())\n",
    "\n",
    "print(\"\\nNombre d'utilisateurs uniques:\")\n",
    "print(ratings_df.select(\"userId\").distinct().count())"
   ]
  },
  {
   "cell_type": "code",
   "execution_count": 7,
   "id": "71041cce",
   "metadata": {
    "vscode": {
     "languageId": "shellscript"
    }
   },
   "outputs": [],
   "source": [
    "# Fermeture de la session Spark\n",
    "spark.stop()"
   ]
  }
 ],
 "metadata": {
  "kernelspec": {
   "display_name": "Python 3 (ipykernel)",
   "language": "python",
   "name": "python3"
  },
  "language_info": {
   "codemirror_mode": {
    "name": "ipython",
    "version": 3
   },
   "file_extension": ".py",
   "mimetype": "text/x-python",
   "name": "python",
   "nbconvert_exporter": "python",
   "pygments_lexer": "ipython3",
   "version": "3.10.12"
  }
 },
 "nbformat": 4,
 "nbformat_minor": 5
}
