{
 "cells": [
  {
   "cell_type": "markdown",
   "metadata": {},
   "source": [
    "# MovieLens - Ingestion Batch et Vérification de la Qualité\n"
   ]
  },
  {
   "cell_type": "markdown",
   "metadata": {},
   "source": [
    "# ETL Pipeline - MovieLens Dataset avec PySpark\n"
   ]
  },
  {
   "cell_type": "code",
   "execution_count": null,
   "metadata": {},
   "outputs": [],
   "source": [
    "from pyspark.sql import SparkSession\n",
    "from pyspark.sql.functions import col, isnan, count\n"
   ]
  },
  {
   "cell_type": "code",
   "execution_count": null,
   "metadata": {},
   "outputs": [
    {
     "name": "stderr",
     "output_type": "stream",
     "text": [
      "Setting default log level to \"WARN\".\n",
      "To adjust logging level use sc.setLogLevel(newLevel). For SparkR, use setLogLevel(newLevel).\n",
      "25/04/29 23:29:06 WARN NativeCodeLoader: Unable to load native-hadoop library for your platform... using builtin-java classes where applicable\n"
     ]
    },
    {
     "name": "stdout",
     "output_type": "stream",
     "text": [
      "Version de Spark: 3.5.1\n"
     ]
    }
   ],
   "source": [
    "# 1. Initialisation de Spark\n",
    "spark = SparkSession.builder \\\n",
    "    .appName(\"MovieLens ETL\") \\\n",
    "    .getOrCreate()"
   ]
  },
  {
   "cell_type": "code",
   "execution_count": null,
   "metadata": {},
   "outputs": [],
   "source": [
    "# 2. Chargement des fichiers CSV depuis HDFS\n",
    "ratings_path = \"hdfs://namenode:9000/user/movielens/raw/ratings.csv\"\n",
    "movies_path = \"hdfs://namenode:9000/user/movielens/raw/movies.csv\"\n",
    "\n",
    "ratings_df = spark.read.option(\"header\", True).option(\"inferSchema\", True).csv(ratings_path)\n",
    "movies_df = spark.read.option(\"header\", True).option(\"inferSchema\", True).csv(movies_path)"
   ]
  },
  {
   "cell_type": "code",
   "execution_count": null,
   "metadata": {},
   "outputs": [
    {
     "name": "stdout",
     "output_type": "stream",
     "text": [
      "Le fichier ratings.csv existe: False\n",
      "Le fichier movies.csv existe: False\n"
     ]
    }
   ],
   "source": [
    "# 3. Exploration rapide\n",
    "print(\"Ratings schema:\")\n",
    "ratings_df.printSchema()\n",
    "print(\"Movies schema:\")\n",
    "movies_df.printSchema()"
   ]
  },
  {
   "cell_type": "code",
   "execution_count": null,
   "metadata": {},
   "outputs": [
    {
     "name": "stderr",
     "output_type": "stream",
     "text": [
      "                                                                                "
     ]
    }
   ],
   "source": [
    "# 4. Vérification des valeurs nulles\n",
    "print(\"\\nValeurs nulles dans ratings:\")\n",
    "rating_nulls = ratings_df.select([count(when(col(c).isNull() | isnan(c), c)).alias(c) for c in ratings_df.columns])\n",
    "rating_nulls.show()\n",
    "\n",
    "print(\"\\nValeurs nulles dans movies:\")\n",
    "movie_nulls = movies_df.select([count(when(col(c).isNull() | isnan(c), c)).alias(c) for c in movies_df.columns])\n",
    "movie_nulls.show()"
   ]
  },
  {
   "cell_type": "code",
   "execution_count": null,
   "metadata": {},
   "outputs": [
    {
     "name": "stdout",
     "output_type": "stream",
     "text": [
      "Schéma des notes:\n",
      "root\n",
      " |-- userId: integer (nullable = true)\n",
      " |-- movieId: integer (nullable = true)\n",
      " |-- rating: double (nullable = true)\n",
      " |-- timestamp: timestamp (nullable = true)\n",
      "\n",
      "\n",
      "Schéma des films:\n",
      "root\n",
      " |-- movieId: integer (nullable = true)\n",
      " |-- title: string (nullable = true)\n",
      " |-- genres: string (nullable = true)\n",
      "\n"
     ]
    }
   ],
   "source": [
    "# 5. Suppression des valeurs nulles\n",
    "ratings_df = ratings_df.dropna()\n",
    "movies_df = movies_df.dropna()"
   ]
  },
  {
   "cell_type": "code",
   "execution_count": null,
   "metadata": {},
   "outputs": [
    {
     "name": "stdout",
     "output_type": "stream",
     "text": [
      "Aperçu des notes:\n",
      "+------+-------+------+-------------------+\n",
      "|userId|movieId|rating|          timestamp|\n",
      "+------+-------+------+-------------------+\n",
      "|     1|      2|   3.5|2005-04-02 23:53:47|\n",
      "|     1|     29|   3.5|2005-04-02 23:31:16|\n",
      "|     1|     32|   3.5|2005-04-02 23:33:39|\n",
      "|     1|     47|   3.5|2005-04-02 23:32:07|\n",
      "|     1|     50|   3.5|2005-04-02 23:29:40|\n",
      "+------+-------+------+-------------------+\n",
      "only showing top 5 rows\n",
      "\n",
      "\n",
      "Aperçu des films:\n",
      "+-------+----------------------------------+-------------------------------------------+\n",
      "|movieId|title                             |genres                                     |\n",
      "+-------+----------------------------------+-------------------------------------------+\n",
      "|1      |Toy Story (1995)                  |Adventure|Animation|Children|Comedy|Fantasy|\n",
      "|2      |Jumanji (1995)                    |Adventure|Children|Fantasy                 |\n",
      "|3      |Grumpier Old Men (1995)           |Comedy|Romance                             |\n",
      "|4      |Waiting to Exhale (1995)          |Comedy|Drama|Romance                       |\n",
      "|5      |Father of the Bride Part II (1995)|Comedy                                     |\n",
      "+-------+----------------------------------+-------------------------------------------+\n",
      "only showing top 5 rows\n",
      "\n"
     ]
    }
   ],
   "source": [
    "# 6. Suppression des doublons\n",
    "ratings_df = ratings_df.dropDuplicates()\n",
    "movies_df = movies_df.dropDuplicates()"
   ]
  },
  {
   "cell_type": "code",
   "execution_count": null,
   "metadata": {},
   "outputs": [
    {
     "name": "stdout",
     "output_type": "stream",
     "text": [
      "Statistiques sur les notes:\n"
     ]
    },
    {
     "name": "stderr",
     "output_type": "stream",
     "text": [
      "                                                                                "
     ]
    },
    {
     "name": "stdout",
     "output_type": "stream",
     "text": [
      "+-------+-----------------+-----------------+------------------+\n",
      "|summary|           userId|          movieId|            rating|\n",
      "+-------+-----------------+-----------------+------------------+\n",
      "|  count|         20000263|         20000263|          20000263|\n",
      "|   mean|69045.87258292554|9041.567330339605|3.5255285642993797|\n",
      "| stddev| 40038.6266531621|  19789.477445413| 1.051988919294244|\n",
      "|    min|                1|                1|               0.5|\n",
      "|    max|           138493|           131262|               5.0|\n",
      "+-------+-----------------+-----------------+------------------+\n",
      "\n",
      "\n",
      "Nombre total de notes:\n"
     ]
    },
    {
     "name": "stderr",
     "output_type": "stream",
     "text": [
      "                                                                                "
     ]
    },
    {
     "name": "stdout",
     "output_type": "stream",
     "text": [
      "20000263\n",
      "\n",
      "Nombre total de films:\n",
      "27278\n",
      "\n",
      "Nombre d'utilisateurs uniques:\n"
     ]
    },
    {
     "name": "stderr",
     "output_type": "stream",
     "text": [
      "[Stage 15:>                                                       (0 + 16) / 16]"
     ]
    },
    {
     "name": "stdout",
     "output_type": "stream",
     "text": [
      "138493\n"
     ]
    },
    {
     "name": "stderr",
     "output_type": "stream",
     "text": [
      "                                                                                "
     ]
    }
   ],
   "source": [
    "# 7. Filtrage des notes extrêmes\n",
    "ratings_df = ratings_df.filter((col(\"rating\") >= 0.5) & (col(\"rating\") <= 5.0))\n",
    "\n",
    "# 8. Jointure pour enrichir les données\n",
    "ratings_enriched_df = ratings_df.join(movies_df, on=\"movieId\", how=\"inner\")\n",
    "\n",
    "# 9. Partitionnement par userId et sauvegarde dans HDFS (parquet)\n",
    "ratings_enriched_df.write \\\n",
    "    .mode(\"overwrite\") \\\n",
    "    .partitionBy(\"userId\") \\\n",
    "    .parquet(\"hdfs://namenode:9000/user/movielens/clean/ratings_by_user\")\n",
    "\n",
    "print(\"\\n✅ Pipeline ETL terminé. Données sauvegardées dans /user/movielens/clean/ratings_by_user\")"
   ]
  }
 ],
 "metadata": {
  "kernelspec": {
   "display_name": "Python 3",
   "language": "python",
   "name": "python3"
  },
  "language_info": {
   "codemirror_mode": {
    "name": "ipython",
    "version": 3
   },
   "file_extension": ".py",
   "mimetype": "text/x-python",
   "name": "python",
   "nbconvert_exporter": "python",
   "pygments_lexer": "ipython3",
   "version": "3.13.2"
  }
 },
 "nbformat": 4,
 "nbformat_minor": 4
}
