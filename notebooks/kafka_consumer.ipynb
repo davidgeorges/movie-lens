{
 "cells": [
  {
   "cell_type": "code",
   "execution_count": 1,
   "metadata": {},
   "outputs": [],
   "source": [
    "#Importation des bibliothèques\n",
    "from kafka import KafkaConsumer\n",
    "import json"
   ]
  },
  {
   "cell_type": "code",
   "execution_count": 2,
   "metadata": {},
   "outputs": [],
   "source": [
    "# ================================\n",
    "# Configuration Kafka\n",
    "# ================================\n",
    "TOPIC_NAME = 'movie_rating'\n",
    "KAFKA_SERVER = 'localhost:9092'\n"
   ]
  },
  {
   "cell_type": "code",
   "execution_count": 3,
   "metadata": {},
   "outputs": [],
   "source": [
    "# ================================\n",
    "# Initialisation du consommateur\n",
    "# ================================\n",
    "consumer = KafkaConsumer(\n",
    "    TOPIC_NAME,\n",
    "    bootstrap_servers=KAFKA_SERVER,\n",
    "    auto_offset_reset='earliest',           # Commencer depuis le début du topic\n",
    "    enable_auto_commit=True,\n",
    "    group_id='movie_rating_consumer_group',\n",
    "    value_deserializer=lambda m: json.loads(m.decode('utf-8'))\n",
    ")"
   ]
  },
  {
   "cell_type": "code",
   "execution_count": null,
   "metadata": {},
   "outputs": [
    {
     "name": "stdout",
     "output_type": "stream",
     "text": [
      "🎧 En attente de messages sur le topic : 'movie_rating'\n",
      "🎬 Nouveau rating reçu : {'userId': 2036, 'movieId': 13944, 'rating': 3.4, 'timestamp': 1746193564}\n",
      "🎬 Nouveau rating reçu : {'userId': 57173, 'movieId': 4933, 'rating': 3.2, 'timestamp': 1746193566}\n",
      "🎬 Nouveau rating reçu : {'userId': 51731, 'movieId': 21668, 'rating': 2.0, 'timestamp': 1746193568}\n",
      "🎬 Nouveau rating reçu : {'userId': 133937, 'movieId': 21185, 'rating': 0.5, 'timestamp': 1746193570}\n",
      "🎬 Nouveau rating reçu : {'userId': 66247, 'movieId': 25406, 'rating': 0.8, 'timestamp': 1746193572}\n",
      "🎬 Nouveau rating reçu : {'userId': 80896, 'movieId': 22774, 'rating': 0.9, 'timestamp': 1746193574}\n",
      "🎬 Nouveau rating reçu : {'userId': 11280, 'movieId': 23846, 'rating': 5.0, 'timestamp': 1746193576}\n",
      "🎬 Nouveau rating reçu : {'userId': 20781, 'movieId': 24504, 'rating': 3.6, 'timestamp': 1746193579}\n",
      "🎬 Nouveau rating reçu : {'userId': 105787, 'movieId': 16287, 'rating': 0.5, 'timestamp': 1746193581}\n",
      "🎬 Nouveau rating reçu : {'userId': 26690, 'movieId': 11115, 'rating': 1.3, 'timestamp': 1746193583}\n",
      "🎬 Nouveau rating reçu : {'userId': 85287, 'movieId': 19755, 'rating': 2.4, 'timestamp': 1746193585}\n",
      "🎬 Nouveau rating reçu : {'userId': 38311, 'movieId': 11600, 'rating': 3.8, 'timestamp': 1746193587}\n",
      "🎬 Nouveau rating reçu : {'userId': 85663, 'movieId': 16940, 'rating': 4.0, 'timestamp': 1746193589}\n",
      "🎬 Nouveau rating reçu : {'userId': 118668, 'movieId': 673, 'rating': 1.0, 'timestamp': 1746193591}\n",
      "🎬 Nouveau rating reçu : {'userId': 108021, 'movieId': 20552, 'rating': 0.5, 'timestamp': 1746193593}\n",
      "🎬 Nouveau rating reçu : {'userId': 60811, 'movieId': 19885, 'rating': 1.5, 'timestamp': 1746193595}\n",
      "🎬 Nouveau rating reçu : {'userId': 127726, 'movieId': 13390, 'rating': 1.4, 'timestamp': 1746193597}\n",
      "🎬 Nouveau rating reçu : {'userId': 38173, 'movieId': 9287, 'rating': 5.0, 'timestamp': 1746193599}\n",
      "🎬 Nouveau rating reçu : {'userId': 61112, 'movieId': 21971, 'rating': 2.9, 'timestamp': 1746193601}\n",
      "🎬 Nouveau rating reçu : {'userId': 116604, 'movieId': 22853, 'rating': 0.9, 'timestamp': 1746193603}\n",
      "🎬 Nouveau rating reçu : {'userId': 58109, 'movieId': 22302, 'rating': 1.8, 'timestamp': 1746193605}\n",
      "🎬 Nouveau rating reçu : {'userId': 54801, 'movieId': 14444, 'rating': 1.5, 'timestamp': 1746193607}\n",
      "🎬 Nouveau rating reçu : {'userId': 61884, 'movieId': 7405, 'rating': 2.5, 'timestamp': 1746193609}\n",
      "🎬 Nouveau rating reçu : {'userId': 43693, 'movieId': 24200, 'rating': 4.0, 'timestamp': 1746193611}\n",
      "🎬 Nouveau rating reçu : {'userId': 28965, 'movieId': 5549, 'rating': 1.7, 'timestamp': 1746193613}\n",
      "🎬 Nouveau rating reçu : {'userId': 26015, 'movieId': 23057, 'rating': 4.9, 'timestamp': 1746193615}\n",
      "🎬 Nouveau rating reçu : {'userId': 24022, 'movieId': 12686, 'rating': 4.2, 'timestamp': 1746193617}\n",
      "🎬 Nouveau rating reçu : {'userId': 27674, 'movieId': 15273, 'rating': 2.0, 'timestamp': 1746193619}\n",
      "🎬 Nouveau rating reçu : {'userId': 46976, 'movieId': 2379, 'rating': 1.9, 'timestamp': 1746193621}\n",
      "🎬 Nouveau rating reçu : {'userId': 48322, 'movieId': 21569, 'rating': 4.7, 'timestamp': 1746193623}\n",
      "🎬 Nouveau rating reçu : {'userId': 121371, 'movieId': 17952, 'rating': 1.5, 'timestamp': 1746193625}\n",
      "🎬 Nouveau rating reçu : {'userId': 57202, 'movieId': 20549, 'rating': 3.3, 'timestamp': 1746193627}\n",
      "🎬 Nouveau rating reçu : {'userId': 55187, 'movieId': 18090, 'rating': 1.0, 'timestamp': 1746193629}\n",
      "🎬 Nouveau rating reçu : {'userId': 93116, 'movieId': 4787, 'rating': 2.3, 'timestamp': 1746193631}\n",
      "🎬 Nouveau rating reçu : {'userId': 43198, 'movieId': 15063, 'rating': 2.2, 'timestamp': 1746193633}\n",
      "🎬 Nouveau rating reçu : {'userId': 114678, 'movieId': 12769, 'rating': 2.3, 'timestamp': 1746193635}\n",
      "🎬 Nouveau rating reçu : {'userId': 44221, 'movieId': 12695, 'rating': 0.8, 'timestamp': 1746193637}\n",
      "🎬 Nouveau rating reçu : {'userId': 36062, 'movieId': 18393, 'rating': 3.9, 'timestamp': 1746193639}\n",
      "🎬 Nouveau rating reçu : {'userId': 42216, 'movieId': 19729, 'rating': 3.8, 'timestamp': 1746193641}\n",
      "🎬 Nouveau rating reçu : {'userId': 61704, 'movieId': 13635, 'rating': 1.1, 'timestamp': 1746193643}\n",
      "🎬 Nouveau rating reçu : {'userId': 118975, 'movieId': 4803, 'rating': 3.9, 'timestamp': 1746193645}\n",
      "🎬 Nouveau rating reçu : {'userId': 85389, 'movieId': 9257, 'rating': 3.4, 'timestamp': 1746193647}\n",
      "🎬 Nouveau rating reçu : {'userId': 80338, 'movieId': 10447, 'rating': 2.4, 'timestamp': 1746193649}\n",
      "🎬 Nouveau rating reçu : {'userId': 106412, 'movieId': 15784, 'rating': 1.2, 'timestamp': 1746193651}\n",
      "🎬 Nouveau rating reçu : {'userId': 3609, 'movieId': 3408, 'rating': 3.4, 'timestamp': 1746193653}\n",
      "🎬 Nouveau rating reçu : {'userId': 32859, 'movieId': 21484, 'rating': 2.3, 'timestamp': 1746193655}\n",
      "🎬 Nouveau rating reçu : {'userId': 37231, 'movieId': 6569, 'rating': 3.6, 'timestamp': 1746193657}\n",
      "🎬 Nouveau rating reçu : {'userId': 22339, 'movieId': 11360, 'rating': 1.2, 'timestamp': 1746193659}\n",
      "🎬 Nouveau rating reçu : {'userId': 108241, 'movieId': 16917, 'rating': 4.5, 'timestamp': 1746193661}\n",
      "🎬 Nouveau rating reçu : {'userId': 42809, 'movieId': 18869, 'rating': 2.3, 'timestamp': 1746193663}\n",
      "🎬 Nouveau rating reçu : {'userId': 34801, 'movieId': 13105, 'rating': 1.9, 'timestamp': 1746193665}\n",
      "🎬 Nouveau rating reçu : {'userId': 54622, 'movieId': 26098, 'rating': 1.1, 'timestamp': 1746193667}\n",
      "🎬 Nouveau rating reçu : {'userId': 92089, 'movieId': 1821, 'rating': 1.7, 'timestamp': 1746193669}\n",
      "🎬 Nouveau rating reçu : {'userId': 88176, 'movieId': 4361, 'rating': 4.8, 'timestamp': 1746193671}\n",
      "🎬 Nouveau rating reçu : {'userId': 123357, 'movieId': 22151, 'rating': 2.0, 'timestamp': 1746193673}\n",
      "🎬 Nouveau rating reçu : {'userId': 10513, 'movieId': 4274, 'rating': 2.7, 'timestamp': 1746193675}\n",
      "🎬 Nouveau rating reçu : {'userId': 56522, 'movieId': 10289, 'rating': 2.3, 'timestamp': 1746193677}\n",
      "🎬 Nouveau rating reçu : {'userId': 94217, 'movieId': 7928, 'rating': 2.9, 'timestamp': 1746193679}\n",
      "🎬 Nouveau rating reçu : {'userId': 73312, 'movieId': 8145, 'rating': 3.0, 'timestamp': 1746193681}\n"
     ]
    }
   ],
   "source": [
    "# ================================\n",
    "# Consommation continue\n",
    "# ================================\n",
    "print(f\"🎧 En attente de messages sur le topic : '{TOPIC_NAME}'\")\n",
    "\n",
    "try:\n",
    "    for message in consumer:\n",
    "        rating = message.value\n",
    "        print(f\"🎬 Nouveau rating reçu : {rating}\")\n",
    "except KeyboardInterrupt:\n",
    "    print(\"🛑 Arrêt du consommateur Kafka.\")\n",
    "finally:\n",
    "    consumer.close()"
   ]
  }
 ],
 "metadata": {
  "kernelspec": {
   "display_name": "Python 3 (ipykernel)",
   "language": "python",
   "name": "python3"
  },
  "language_info": {
   "codemirror_mode": {
    "name": "ipython",
    "version": 3
   },
   "file_extension": ".py",
   "mimetype": "text/x-python",
   "name": "python",
   "nbconvert_exporter": "python",
   "pygments_lexer": "ipython3",
   "version": "3.10.12"
  }
 },
 "nbformat": 4,
 "nbformat_minor": 4
}
