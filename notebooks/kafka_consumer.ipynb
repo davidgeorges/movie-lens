{
 "cells": [
  {
   "cell_type": "code",
   "execution_count": null,
   "metadata": {},
   "outputs": [],
   "source": [
    "#Importation des bibliothèques\n",
    "from kafka import KafkaConsumer\n",
    "import json"
   ]
  },
  {
   "cell_type": "code",
   "execution_count": null,
   "metadata": {},
   "outputs": [],
   "source": [
    "# ================================\n",
    "# Configuration Kafka\n",
    "# ================================\n",
    "TOPIC_NAME = 'movie_rating'\n",
    "KAFKA_SERVER = 'localhost:9092'\n"
   ]
  },
  {
   "cell_type": "code",
   "execution_count": null,
   "metadata": {},
   "outputs": [],
   "source": [
    "# ================================\n",
    "# Initialisation du consommateur\n",
    "# ================================\n",
    "consumer = KafkaConsumer(\n",
    "    TOPIC_NAME,\n",
    "    bootstrap_servers=KAFKA_SERVER,\n",
    "    auto_offset_reset='earliest',           # Commencer depuis le début du topic\n",
    "    enable_auto_commit=True,\n",
    "    group_id='movie_rating_consumer_group',\n",
    "    value_deserializer=lambda m: json.loads(m.decode('utf-8'))\n",
    ")"
   ]
  },
  {
   "cell_type": "code",
   "execution_count": null,
   "metadata": {},
   "outputs": [],
   "source": [
    "# ================================\n",
    "# Consommation continue\n",
    "# ================================\n",
    "print(f\"🎧 En attente de messages sur le topic : '{TOPIC_NAME}'\")\n",
    "\n",
    "try:\n",
    "    for message in consumer:\n",
    "        rating = message.value\n",
    "        print(f\"🎬 Nouveau rating reçu : {rating}\")\n",
    "except KeyboardInterrupt:\n",
    "    print(\"🛑 Arrêt du consommateur Kafka.\")\n",
    "finally:\n",
    "    consumer.close()"
   ]
  }
 ],
 "metadata": {
  "language_info": {
   "name": "python"
  }
 },
 "nbformat": 4,
 "nbformat_minor": 2
}
