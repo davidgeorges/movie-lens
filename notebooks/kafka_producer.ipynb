{
 "cells": [
  {
   "cell_type": "code",
   "execution_count": 1,
   "metadata": {},
   "outputs": [],
   "source": [
    "#Importation des bibliothèques\n",
    "from kafka import KafkaProducer\n",
    "import json\n",
    "import time\n",
    "import random"
   ]
  },
  {
   "cell_type": "code",
   "execution_count": 2,
   "metadata": {},
   "outputs": [],
   "source": [
    "# ================================\n",
    "# Configuration Kafka\n",
    "# ================================\n",
    "TOPIC_NAME = 'movie_rating'\n",
    "KAFKA_SERVER = '172.18.0.2:9092'\n",
    "\n",
    "producer = KafkaProducer(\n",
    "    bootstrap_servers=KAFKA_SERVER,\n",
    "    value_serializer=lambda v: json.dumps(v).encode('utf-8')\n",
    ")"
   ]
  },
  {
   "cell_type": "code",
   "execution_count": 3,
   "metadata": {},
   "outputs": [],
   "source": [
    "# ================================\n",
    "# Simulation d'une note utilisateur\n",
    "# ================================\n",
    "def generate_rating():\n",
    "    return {\n",
    "        'userId': random.randint(0, 137999),     # 138000 users\n",
    "        'movieId': random.randint(0, 26743),      # 26744 movies\n",
    "        'rating': round(random.uniform(0.5, 5.0), 1),\n",
    "        'timestamp': int(time.time())\n",
    "    }\n"
   ]
  },
  {
   "cell_type": "code",
   "execution_count": 4,
   "metadata": {},
   "outputs": [],
   "source": [
    "# ================================\n",
    "# Envoi des ratings dans Kafka\n",
    "# ================================\n",
    "def send_ratings():\n",
    "    print(f\"🔄 Envoi des ratings vers le topic Kafka : '{TOPIC_NAME}'\")\n",
    "    try:\n",
    "        while True:\n",
    "            rating = generate_rating()\n",
    "            producer.send(TOPIC_NAME, value=rating)\n",
    "            print(f\"✅ Rating envoyé : {rating}\")\n",
    "            time.sleep(2)\n",
    "    except Exception as e:\n",
    "        print(f\"❌ Erreur lors de l'envoi : {e}\")\n",
    "    finally:\n",
    "        producer.close()\n",
    "        print(\"🚫 Producteur Kafka fermé.\")\n"
   ]
  },
  {
   "cell_type": "code",
   "execution_count": null,
   "metadata": {},
   "outputs": [
    {
     "name": "stdout",
     "output_type": "stream",
     "text": [
      "🔄 Envoi des ratings vers le topic Kafka : 'movie_rating'\n",
      "✅ Rating envoyé : {'userId': 83127, 'movieId': 24932, 'rating': 2.2, 'timestamp': 1746193556}\n",
      "✅ Rating envoyé : {'userId': 17096, 'movieId': 13288, 'rating': 2.7, 'timestamp': 1746193558}\n",
      "✅ Rating envoyé : {'userId': 84986, 'movieId': 25674, 'rating': 4.8, 'timestamp': 1746193560}\n",
      "✅ Rating envoyé : {'userId': 96190, 'movieId': 24195, 'rating': 3.2, 'timestamp': 1746193562}\n",
      "✅ Rating envoyé : {'userId': 2036, 'movieId': 13944, 'rating': 3.4, 'timestamp': 1746193564}\n",
      "✅ Rating envoyé : {'userId': 57173, 'movieId': 4933, 'rating': 3.2, 'timestamp': 1746193566}\n",
      "✅ Rating envoyé : {'userId': 51731, 'movieId': 21668, 'rating': 2.0, 'timestamp': 1746193568}\n",
      "✅ Rating envoyé : {'userId': 133937, 'movieId': 21185, 'rating': 0.5, 'timestamp': 1746193570}\n",
      "✅ Rating envoyé : {'userId': 66247, 'movieId': 25406, 'rating': 0.8, 'timestamp': 1746193572}\n",
      "✅ Rating envoyé : {'userId': 80896, 'movieId': 22774, 'rating': 0.9, 'timestamp': 1746193574}\n",
      "✅ Rating envoyé : {'userId': 11280, 'movieId': 23846, 'rating': 5.0, 'timestamp': 1746193576}\n",
      "✅ Rating envoyé : {'userId': 20781, 'movieId': 24504, 'rating': 3.6, 'timestamp': 1746193579}\n",
      "✅ Rating envoyé : {'userId': 105787, 'movieId': 16287, 'rating': 0.5, 'timestamp': 1746193581}\n",
      "✅ Rating envoyé : {'userId': 26690, 'movieId': 11115, 'rating': 1.3, 'timestamp': 1746193583}\n",
      "✅ Rating envoyé : {'userId': 85287, 'movieId': 19755, 'rating': 2.4, 'timestamp': 1746193585}\n",
      "✅ Rating envoyé : {'userId': 38311, 'movieId': 11600, 'rating': 3.8, 'timestamp': 1746193587}\n",
      "✅ Rating envoyé : {'userId': 85663, 'movieId': 16940, 'rating': 4.0, 'timestamp': 1746193589}\n",
      "✅ Rating envoyé : {'userId': 118668, 'movieId': 673, 'rating': 1.0, 'timestamp': 1746193591}\n",
      "✅ Rating envoyé : {'userId': 108021, 'movieId': 20552, 'rating': 0.5, 'timestamp': 1746193593}\n",
      "✅ Rating envoyé : {'userId': 60811, 'movieId': 19885, 'rating': 1.5, 'timestamp': 1746193595}\n",
      "✅ Rating envoyé : {'userId': 127726, 'movieId': 13390, 'rating': 1.4, 'timestamp': 1746193597}\n",
      "✅ Rating envoyé : {'userId': 38173, 'movieId': 9287, 'rating': 5.0, 'timestamp': 1746193599}\n",
      "✅ Rating envoyé : {'userId': 61112, 'movieId': 21971, 'rating': 2.9, 'timestamp': 1746193601}\n",
      "✅ Rating envoyé : {'userId': 116604, 'movieId': 22853, 'rating': 0.9, 'timestamp': 1746193603}\n",
      "✅ Rating envoyé : {'userId': 58109, 'movieId': 22302, 'rating': 1.8, 'timestamp': 1746193605}\n",
      "✅ Rating envoyé : {'userId': 54801, 'movieId': 14444, 'rating': 1.5, 'timestamp': 1746193607}\n",
      "✅ Rating envoyé : {'userId': 61884, 'movieId': 7405, 'rating': 2.5, 'timestamp': 1746193609}\n",
      "✅ Rating envoyé : {'userId': 43693, 'movieId': 24200, 'rating': 4.0, 'timestamp': 1746193611}\n",
      "✅ Rating envoyé : {'userId': 28965, 'movieId': 5549, 'rating': 1.7, 'timestamp': 1746193613}\n",
      "✅ Rating envoyé : {'userId': 26015, 'movieId': 23057, 'rating': 4.9, 'timestamp': 1746193615}\n",
      "✅ Rating envoyé : {'userId': 24022, 'movieId': 12686, 'rating': 4.2, 'timestamp': 1746193617}\n",
      "✅ Rating envoyé : {'userId': 27674, 'movieId': 15273, 'rating': 2.0, 'timestamp': 1746193619}\n",
      "✅ Rating envoyé : {'userId': 46976, 'movieId': 2379, 'rating': 1.9, 'timestamp': 1746193621}\n",
      "✅ Rating envoyé : {'userId': 48322, 'movieId': 21569, 'rating': 4.7, 'timestamp': 1746193623}\n",
      "✅ Rating envoyé : {'userId': 121371, 'movieId': 17952, 'rating': 1.5, 'timestamp': 1746193625}\n",
      "✅ Rating envoyé : {'userId': 57202, 'movieId': 20549, 'rating': 3.3, 'timestamp': 1746193627}\n",
      "✅ Rating envoyé : {'userId': 55187, 'movieId': 18090, 'rating': 1.0, 'timestamp': 1746193629}\n",
      "✅ Rating envoyé : {'userId': 93116, 'movieId': 4787, 'rating': 2.3, 'timestamp': 1746193631}\n",
      "✅ Rating envoyé : {'userId': 43198, 'movieId': 15063, 'rating': 2.2, 'timestamp': 1746193633}\n",
      "✅ Rating envoyé : {'userId': 114678, 'movieId': 12769, 'rating': 2.3, 'timestamp': 1746193635}\n",
      "✅ Rating envoyé : {'userId': 44221, 'movieId': 12695, 'rating': 0.8, 'timestamp': 1746193637}\n",
      "✅ Rating envoyé : {'userId': 36062, 'movieId': 18393, 'rating': 3.9, 'timestamp': 1746193639}\n",
      "✅ Rating envoyé : {'userId': 42216, 'movieId': 19729, 'rating': 3.8, 'timestamp': 1746193641}\n",
      "✅ Rating envoyé : {'userId': 61704, 'movieId': 13635, 'rating': 1.1, 'timestamp': 1746193643}\n",
      "✅ Rating envoyé : {'userId': 118975, 'movieId': 4803, 'rating': 3.9, 'timestamp': 1746193645}\n",
      "✅ Rating envoyé : {'userId': 85389, 'movieId': 9257, 'rating': 3.4, 'timestamp': 1746193647}\n",
      "✅ Rating envoyé : {'userId': 80338, 'movieId': 10447, 'rating': 2.4, 'timestamp': 1746193649}\n",
      "✅ Rating envoyé : {'userId': 106412, 'movieId': 15784, 'rating': 1.2, 'timestamp': 1746193651}\n",
      "✅ Rating envoyé : {'userId': 3609, 'movieId': 3408, 'rating': 3.4, 'timestamp': 1746193653}\n",
      "✅ Rating envoyé : {'userId': 32859, 'movieId': 21484, 'rating': 2.3, 'timestamp': 1746193655}\n",
      "✅ Rating envoyé : {'userId': 37231, 'movieId': 6569, 'rating': 3.6, 'timestamp': 1746193657}\n",
      "✅ Rating envoyé : {'userId': 22339, 'movieId': 11360, 'rating': 1.2, 'timestamp': 1746193659}\n",
      "✅ Rating envoyé : {'userId': 108241, 'movieId': 16917, 'rating': 4.5, 'timestamp': 1746193661}\n",
      "✅ Rating envoyé : {'userId': 42809, 'movieId': 18869, 'rating': 2.3, 'timestamp': 1746193663}\n",
      "✅ Rating envoyé : {'userId': 34801, 'movieId': 13105, 'rating': 1.9, 'timestamp': 1746193665}\n",
      "✅ Rating envoyé : {'userId': 54622, 'movieId': 26098, 'rating': 1.1, 'timestamp': 1746193667}\n",
      "✅ Rating envoyé : {'userId': 92089, 'movieId': 1821, 'rating': 1.7, 'timestamp': 1746193669}\n",
      "✅ Rating envoyé : {'userId': 88176, 'movieId': 4361, 'rating': 4.8, 'timestamp': 1746193671}\n"
     ]
    }
   ],
   "source": [
    "# ================================\n",
    "# Lancement\n",
    "# ================================\n",
    "if __name__ == \"__main__\":\n",
    "    send_ratings()"
   ]
  }
 ],
 "metadata": {
  "kernelspec": {
   "display_name": "Python 3 (ipykernel)",
   "language": "python",
   "name": "python3"
  },
  "language_info": {
   "codemirror_mode": {
    "name": "ipython",
    "version": 3
   },
   "file_extension": ".py",
   "mimetype": "text/x-python",
   "name": "python",
   "nbconvert_exporter": "python",
   "pygments_lexer": "ipython3",
   "version": "3.10.12"
  }
 },
 "nbformat": 4,
 "nbformat_minor": 4
}
