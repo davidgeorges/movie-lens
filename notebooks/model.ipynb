{
 "cells": [
  {
   "cell_type": "markdown",
   "id": "32657ffd-7e0f-4a85-8494-504c88ad458a",
   "metadata": {},
   "source": [
    "## 1. Initialisation de Spark"
   ]
  },
  {
   "cell_type": "code",
   "execution_count": 1,
   "id": "a15af085-8870-4157-a487-7c4b6e9ccf79",
   "metadata": {},
   "outputs": [
    {
     "name": "stderr",
     "output_type": "stream",
     "text": [
      "Setting default log level to \"WARN\".\n",
      "To adjust logging level use sc.setLogLevel(newLevel). For SparkR, use setLogLevel(newLevel).\n",
      "25/05/04 16:44:51 WARN NativeCodeLoader: Unable to load native-hadoop library for your platform... using builtin-java classes where applicable\n"
     ]
    }
   ],
   "source": [
    "from pyspark.sql import SparkSession\n",
    "\n",
    "spark = SparkSession.builder \\\n",
    "    .appName(\"ALSModelTraining\") \\\n",
    "    .config(\"spark.executor.memory\", \"2g\") \\\n",
    "    .config(\"spark.driver.memory\", \"2g\") \\\n",
    "    .config(\"spark.sql.shuffle.partitions\", \"8\") \\\n",
    "    .getOrCreate()\n",
    "\n",
    "spark.sparkContext.setLogLevel(\"ERROR\")"
   ]
  },
  {
   "cell_type": "markdown",
   "id": "c04f2397-e793-48c8-8fec-cfeced127807",
   "metadata": {},
   "source": [
    "## 2. Entraînement du modèle"
   ]
  },
  {
   "cell_type": "code",
   "execution_count": 2,
   "id": "5bd25c01-3b7b-453c-bde0-b368d332a63d",
   "metadata": {},
   "outputs": [],
   "source": [
    "from pyspark.ml.recommendation import ALS\n",
    "\n",
    "als = ALS(\n",
    "    userCol=\"userId\",\n",
    "    itemCol=\"movieId\",\n",
    "    ratingCol=\"rating\",\n",
    "    rank=10,\n",
    "    regParam=0.1,\n",
    "    maxIter=10,\n",
    "    coldStartStrategy=\"drop\"\n",
    ")"
   ]
  },
  {
   "cell_type": "code",
   "execution_count": 3,
   "id": "72ecf208-8a1b-4ffa-8d2f-2b66f08b64e6",
   "metadata": {},
   "outputs": [
    {
     "name": "stderr",
     "output_type": "stream",
     "text": [
      "                                                                                "
     ]
    },
    {
     "name": "stdout",
     "output_type": "stream",
     "text": [
      "root\n",
      " |-- userId: integer (nullable = true)\n",
      " |-- movieId: integer (nullable = true)\n",
      " |-- rating: double (nullable = true)\n",
      " |-- timestamp: timestamp (nullable = true)\n",
      "\n"
     ]
    },
    {
     "name": "stderr",
     "output_type": "stream",
     "text": [
      "[Stage 2:====================================================>    (11 + 1) / 12]"
     ]
    },
    {
     "name": "stdout",
     "output_type": "stream",
     "text": [
      "+------+-------+------+-------------------+\n",
      "|userId|movieId|rating|          timestamp|\n",
      "+------+-------+------+-------------------+\n",
      "|    12|    110|   4.0|1997-03-22 20:54:22|\n",
      "|    12|    733|   4.0|1997-03-22 20:49:34|\n",
      "|    12|    608|   5.0|1997-03-22 20:49:34|\n",
      "|    12|    260|   4.0|1997-03-22 20:50:25|\n",
      "|    12|    480|   3.0|1997-03-22 20:54:22|\n",
      "+------+-------+------+-------------------+\n",
      "only showing top 5 rows\n",
      "\n"
     ]
    },
    {
     "name": "stderr",
     "output_type": "stream",
     "text": [
      "                                                                                "
     ]
    }
   ],
   "source": [
    "from pyspark.sql.window import Window\n",
    "import pyspark.sql.functions as F\n",
    "\n",
    "# Charger les données depuis HDFS\n",
    "ratings = spark.read.csv(\"hdfs://namenode:9000/user/movielens/raw/rating.csv\", header=True, inferSchema=True)\n",
    "\n",
    "# Créer une fenêtre aléatoire par utilisateur\n",
    "window = Window.partitionBy(\"userId\").orderBy(F.rand())\n",
    "\n",
    "# Garder au plus 20 notes par utilisateur\n",
    "ratings_sampled = ratings.withColumn(\"row_num\", F.row_number().over(window)) \\\n",
    "                         .filter(F.col(\"row_num\") <= 10) \\\n",
    "                         .drop(\"row_num\")\n",
    "\n",
    "# Vérifier le schéma\n",
    "ratings_sampled.printSchema()\n",
    "ratings_sampled.show(5)\n"
   ]
  },
  {
   "cell_type": "code",
   "execution_count": 4,
   "id": "bccc0137-0fcb-4757-b391-6ce568944cc0",
   "metadata": {},
   "outputs": [
    {
     "name": "stderr",
     "output_type": "stream",
     "text": [
      "[Stage 7:>                                                          (0 + 8) / 8]"
     ]
    },
    {
     "name": "stdout",
     "output_type": "stream",
     "text": [
      "+------+-----+\n",
      "|userId|count|\n",
      "+------+-----+\n",
      "|     8|   10|\n",
      "|     2|   10|\n",
      "|     5|   10|\n",
      "|     4|   10|\n",
      "|     1|   10|\n",
      "|    22|   10|\n",
      "|    10|   10|\n",
      "|    28|   10|\n",
      "|    12|   10|\n",
      "|    32|   10|\n",
      "|    31|   10|\n",
      "|    36|   10|\n",
      "|     3|   10|\n",
      "|    45|   10|\n",
      "|    49|   10|\n",
      "|    55|   10|\n",
      "|    25|   10|\n",
      "|    59|   10|\n",
      "|    57|   10|\n",
      "|    60|   10|\n",
      "+------+-----+\n",
      "only showing top 20 rows\n",
      "\n"
     ]
    },
    {
     "name": "stderr",
     "output_type": "stream",
     "text": [
      "                                                                                "
     ]
    }
   ],
   "source": [
    "ratings_sampled.groupBy(\"userId\").count().orderBy(\"count\", ascending=False).show()"
   ]
  },
  {
   "cell_type": "code",
   "execution_count": 5,
   "id": "b4c6b447-f6fc-4bea-a74a-df41f5961dc4",
   "metadata": {},
   "outputs": [],
   "source": [
    "(training, test) = ratings_sampled.randomSplit([0.8, 0.2], seed=42)"
   ]
  },
  {
   "cell_type": "code",
   "execution_count": 6,
   "id": "92a1863a-b15a-42ff-a14b-960be6157162",
   "metadata": {},
   "outputs": [],
   "source": [
    "known_users = training.select(\"userId\").distinct()\n",
    "known_items = training.select(\"movieId\").distinct()\n",
    "\n",
    "test = test.join(known_users, on=\"userId\", how=\"inner\") \\\n",
    "           .join(known_items, on=\"movieId\", how=\"inner\")"
   ]
  },
  {
   "cell_type": "code",
   "execution_count": 7,
   "id": "fe514aee-95fd-48ca-9481-43bff889ee76",
   "metadata": {
    "scrolled": true
   },
   "outputs": [
    {
     "name": "stderr",
     "output_type": "stream",
     "text": [
      "                                                                                "
     ]
    },
    {
     "name": "stdout",
     "output_type": "stream",
     "text": [
      "training count = 1108458, test count = 275791\n"
     ]
    },
    {
     "name": "stderr",
     "output_type": "stream",
     "text": [
      "                                                                                "
     ]
    }
   ],
   "source": [
    "print(f\"training count = {training.count()}, test count = {test.count()}\")\n",
    "model = als.fit(training)"
   ]
  },
  {
   "cell_type": "markdown",
   "id": "b8212c5d-9d3f-468b-9e33-3c9e8c5f511a",
   "metadata": {},
   "source": [
    "## 3. Évaluation du modèle"
   ]
  },
  {
   "cell_type": "code",
   "execution_count": 8,
   "id": "9ddeaa07-59f1-428f-84a7-cd1b9477ed2d",
   "metadata": {},
   "outputs": [
    {
     "name": "stderr",
     "output_type": "stream",
     "text": [
      "[Stage 178:>                                                        (0 + 8) / 8]"
     ]
    },
    {
     "name": "stdout",
     "output_type": "stream",
     "text": [
      "Root-mean-square error = 1.1350\n"
     ]
    },
    {
     "name": "stderr",
     "output_type": "stream",
     "text": [
      "                                                                                "
     ]
    }
   ],
   "source": [
    "from pyspark.ml.evaluation import RegressionEvaluator\n",
    "\n",
    "predictions = model.transform(test)\n",
    "evaluator = RegressionEvaluator(metricName=\"rmse\", labelCol=\"rating\", predictionCol=\"prediction\")\n",
    "rmse = evaluator.evaluate(predictions)\n",
    "print(f\"Root-mean-square error = {rmse:.4f}\")"
   ]
  },
  {
   "cell_type": "markdown",
   "id": "fb55d1e5-b1d3-4287-9237-34c742fcf043",
   "metadata": {},
   "source": [
    "## 4. Sauvegarde du modèle dans hdfs"
   ]
  },
  {
   "cell_type": "code",
   "execution_count": 9,
   "id": "4b6195d4-2275-4ed1-b2eb-3fa646846ae2",
   "metadata": {},
   "outputs": [
    {
     "name": "stderr",
     "output_type": "stream",
     "text": [
      "                                                                                "
     ]
    }
   ],
   "source": [
    "# sauvergarde du fichier\n",
    "model.write().overwrite().save(\"hdfs://namenode:9000/model/model_als\")"
   ]
  }
 ],
 "metadata": {
  "kernelspec": {
   "display_name": "Python 3 (ipykernel)",
   "language": "python",
   "name": "python3"
  },
  "language_info": {
   "codemirror_mode": {
    "name": "ipython",
    "version": 3
   },
   "file_extension": ".py",
   "mimetype": "text/x-python",
   "name": "python",
   "nbconvert_exporter": "python",
   "pygments_lexer": "ipython3",
   "version": "3.10.12"
  }
 },
 "nbformat": 4,
 "nbformat_minor": 5
}
